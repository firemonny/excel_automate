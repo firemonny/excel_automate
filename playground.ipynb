{
 "cells": [
  {
   "cell_type": "code",
   "execution_count": 1,
   "id": "5a4db454",
   "metadata": {},
   "outputs": [],
   "source": [
    "import pandas as pd \n",
    "import packing_list_helper\n",
    "from openpyxl import load_workbook\n",
    "from openpyxl.styles import Border\n",
    "from packing_list_helper import *\n",
    "\n",
    "# Read the data file\n",
    "rdc_df = pd.read_csv(\"data/rdc.csv\")\n",
    "item_list_df = pd.read_csv(\"data/item_list.csv\")\n",
    "po_details_df = pd.read_csv(\"data/po_details.csv\")"
   ]
  },
  {
   "cell_type": "code",
   "execution_count": 2,
   "id": "bf0644b8",
   "metadata": {},
   "outputs": [
    {
     "data": {
      "text/html": [
       "<div>\n",
       "<style scoped>\n",
       "    .dataframe tbody tr th:only-of-type {\n",
       "        vertical-align: middle;\n",
       "    }\n",
       "\n",
       "    .dataframe tbody tr th {\n",
       "        vertical-align: top;\n",
       "    }\n",
       "\n",
       "    .dataframe thead th {\n",
       "        text-align: right;\n",
       "    }\n",
       "</style>\n",
       "<table border=\"1\" class=\"dataframe\">\n",
       "  <thead>\n",
       "    <tr style=\"text-align: right;\">\n",
       "      <th></th>\n",
       "      <th>客戶別</th>\n",
       "      <th>出貨</th>\n",
       "      <th>出貨地</th>\n",
       "      <th>國別</th>\n",
       "    </tr>\n",
       "  </thead>\n",
       "  <tbody>\n",
       "    <tr>\n",
       "      <th>0</th>\n",
       "      <td>TG004</td>\n",
       "      <td>TG0955</td>\n",
       "      <td>MOUNT VERNON,TX</td>\n",
       "      <td>USA</td>\n",
       "    </tr>\n",
       "    <tr>\n",
       "      <th>1</th>\n",
       "      <td>TG004</td>\n",
       "      <td>TG0960</td>\n",
       "      <td>STATESVILLE,NC</td>\n",
       "      <td>USA</td>\n",
       "    </tr>\n",
       "    <tr>\n",
       "      <th>2</th>\n",
       "      <td>TG004</td>\n",
       "      <td>TG0961</td>\n",
       "      <td>MINERSVILLE,PA</td>\n",
       "      <td>USA</td>\n",
       "    </tr>\n",
       "    <tr>\n",
       "      <th>3</th>\n",
       "      <td>TG004</td>\n",
       "      <td>TG0962</td>\n",
       "      <td>VALDOSTA,GA</td>\n",
       "      <td>USA</td>\n",
       "    </tr>\n",
       "    <tr>\n",
       "      <th>4</th>\n",
       "      <td>TG004</td>\n",
       "      <td>TG0964</td>\n",
       "      <td>NORTH WILKESBORO,NC</td>\n",
       "      <td>USA</td>\n",
       "    </tr>\n",
       "    <tr>\n",
       "      <th>5</th>\n",
       "      <td>TG004</td>\n",
       "      <td>TG0965</td>\n",
       "      <td>CHEYENNE,WY</td>\n",
       "      <td>USA</td>\n",
       "    </tr>\n",
       "    <tr>\n",
       "      <th>6</th>\n",
       "      <td>TG004</td>\n",
       "      <td>TG0966</td>\n",
       "      <td>PERRIS,CA</td>\n",
       "      <td>USA</td>\n",
       "    </tr>\n",
       "    <tr>\n",
       "      <th>7</th>\n",
       "      <td>TG004</td>\n",
       "      <td>TG0990</td>\n",
       "      <td>FINDLAY,OH</td>\n",
       "      <td>USA</td>\n",
       "    </tr>\n",
       "    <tr>\n",
       "      <th>8</th>\n",
       "      <td>TG004</td>\n",
       "      <td>TG0992</td>\n",
       "      <td>NORTH VERNON,IN</td>\n",
       "      <td>USA</td>\n",
       "    </tr>\n",
       "    <tr>\n",
       "      <th>9</th>\n",
       "      <td>TG004</td>\n",
       "      <td>TG1419</td>\n",
       "      <td>KISSIMMEE,FL</td>\n",
       "      <td>USA</td>\n",
       "    </tr>\n",
       "    <tr>\n",
       "      <th>10</th>\n",
       "      <td>TG004</td>\n",
       "      <td>TG1420</td>\n",
       "      <td>GARYSBURG,NC</td>\n",
       "      <td>USA</td>\n",
       "    </tr>\n",
       "    <tr>\n",
       "      <th>11</th>\n",
       "      <td>TG004</td>\n",
       "      <td>TG1421</td>\n",
       "      <td>PLAINFIELD,CT</td>\n",
       "      <td>USA</td>\n",
       "    </tr>\n",
       "    <tr>\n",
       "      <th>12</th>\n",
       "      <td>TG004</td>\n",
       "      <td>TG1436</td>\n",
       "      <td>LEBANON,OR</td>\n",
       "      <td>USA</td>\n",
       "    </tr>\n",
       "    <tr>\n",
       "      <th>13</th>\n",
       "      <td>TG004</td>\n",
       "      <td>TG1439</td>\n",
       "      <td>PORT WENTWORTH,GA</td>\n",
       "      <td>USA</td>\n",
       "    </tr>\n",
       "    <tr>\n",
       "      <th>14</th>\n",
       "      <td>TG004</td>\n",
       "      <td>TG1440</td>\n",
       "      <td>ROCKFORD,IL</td>\n",
       "      <td>USA</td>\n",
       "    </tr>\n",
       "    <tr>\n",
       "      <th>15</th>\n",
       "      <td>TG004</td>\n",
       "      <td>TG1449</td>\n",
       "      <td>PITTSTON,PA</td>\n",
       "      <td>USA</td>\n",
       "    </tr>\n",
       "    <tr>\n",
       "      <th>16</th>\n",
       "      <td>TG004</td>\n",
       "      <td>TG1457</td>\n",
       "      <td>ADAIRSVILLE,GA</td>\n",
       "      <td>USA</td>\n",
       "    </tr>\n",
       "    <tr>\n",
       "      <th>17</th>\n",
       "      <td>TG004</td>\n",
       "      <td>TG3282</td>\n",
       "      <td>CHESAPEAKE,VA</td>\n",
       "      <td>USA</td>\n",
       "    </tr>\n",
       "    <tr>\n",
       "      <th>18</th>\n",
       "      <td>TG004</td>\n",
       "      <td>TG3311</td>\n",
       "      <td>PLEASANT VIEW,TN</td>\n",
       "      <td>USA</td>\n",
       "    </tr>\n",
       "    <tr>\n",
       "      <th>19</th>\n",
       "      <td>TG004</td>\n",
       "      <td>TG3502</td>\n",
       "      <td>CARSON,CA</td>\n",
       "      <td>USA</td>\n",
       "    </tr>\n",
       "    <tr>\n",
       "      <th>20</th>\n",
       "      <td>TG004</td>\n",
       "      <td>TG3507</td>\n",
       "      <td>CHESAPEAKE,VA</td>\n",
       "      <td>USA</td>\n",
       "    </tr>\n",
       "    <tr>\n",
       "      <th>21</th>\n",
       "      <td>TG004</td>\n",
       "      <td>TG4069</td>\n",
       "      <td>RINCON, GA</td>\n",
       "      <td>USA</td>\n",
       "    </tr>\n",
       "    <tr>\n",
       "      <th>22</th>\n",
       "      <td>TG004</td>\n",
       "      <td>TG1450</td>\n",
       "      <td>MORENO VALLEY,CCA</td>\n",
       "      <td>USA</td>\n",
       "    </tr>\n",
       "    <tr>\n",
       "      <th>23</th>\n",
       "      <td>TG004</td>\n",
       "      <td>TG3106</td>\n",
       "      <td>BETHLEHEM,PA</td>\n",
       "      <td>USA</td>\n",
       "    </tr>\n",
       "    <tr>\n",
       "      <th>24</th>\n",
       "      <td>TG008</td>\n",
       "      <td>TG3110</td>\n",
       "      <td>MILTON,ON</td>\n",
       "      <td>CAN</td>\n",
       "    </tr>\n",
       "    <tr>\n",
       "      <th>25</th>\n",
       "      <td>TG008</td>\n",
       "      <td>TG0099</td>\n",
       "      <td>BOUCHERVILLE,QC</td>\n",
       "      <td>CAN</td>\n",
       "    </tr>\n",
       "    <tr>\n",
       "      <th>26</th>\n",
       "      <td>TG008</td>\n",
       "      <td>TG0075</td>\n",
       "      <td>CALGARY,AB</td>\n",
       "      <td>CAN</td>\n",
       "    </tr>\n",
       "  </tbody>\n",
       "</table>\n",
       "</div>"
      ],
      "text/plain": [
       "      客戶別      出貨                  出貨地   國別\n",
       "0   TG004  TG0955      MOUNT VERNON,TX  USA\n",
       "1   TG004  TG0960       STATESVILLE,NC  USA\n",
       "2   TG004  TG0961       MINERSVILLE,PA  USA\n",
       "3   TG004  TG0962          VALDOSTA,GA  USA\n",
       "4   TG004  TG0964  NORTH WILKESBORO,NC  USA\n",
       "5   TG004  TG0965          CHEYENNE,WY  USA\n",
       "6   TG004  TG0966            PERRIS,CA  USA\n",
       "7   TG004  TG0990           FINDLAY,OH  USA\n",
       "8   TG004  TG0992      NORTH VERNON,IN  USA\n",
       "9   TG004  TG1419         KISSIMMEE,FL  USA\n",
       "10  TG004  TG1420         GARYSBURG,NC  USA\n",
       "11  TG004  TG1421        PLAINFIELD,CT  USA\n",
       "12  TG004  TG1436           LEBANON,OR  USA\n",
       "13  TG004  TG1439    PORT WENTWORTH,GA  USA\n",
       "14  TG004  TG1440          ROCKFORD,IL  USA\n",
       "15  TG004  TG1449          PITTSTON,PA  USA\n",
       "16  TG004  TG1457       ADAIRSVILLE,GA  USA\n",
       "17  TG004  TG3282        CHESAPEAKE,VA  USA\n",
       "18  TG004  TG3311     PLEASANT VIEW,TN  USA\n",
       "19  TG004  TG3502            CARSON,CA  USA\n",
       "20  TG004  TG3507        CHESAPEAKE,VA  USA\n",
       "21  TG004  TG4069           RINCON, GA  USA\n",
       "22  TG004  TG1450    MORENO VALLEY,CCA  USA\n",
       "23  TG004  TG3106         BETHLEHEM,PA  USA\n",
       "24  TG008  TG3110            MILTON,ON  CAN\n",
       "25  TG008  TG0099      BOUCHERVILLE,QC  CAN\n",
       "26  TG008  TG0075          CALGARY,AB   CAN"
      ]
     },
     "execution_count": 2,
     "metadata": {},
     "output_type": "execute_result"
    }
   ],
   "source": [
    "rdc_df.rename(columns = {'出貨地代碼':'出貨'}, inplace = True)\n",
    "rdc_df"
   ]
  },
  {
   "cell_type": "code",
   "execution_count": 3,
   "id": "b9125038",
   "metadata": {
    "scrolled": true
   },
   "outputs": [
    {
     "data": {
      "text/plain": [
       "採購單號                                                300063935\n",
       "採購單日期                                               2022-9-21\n",
       "客戶代號                                                    AS000\n",
       "客戶PO單號                                                3007311\n",
       "出貨                                                     TG0099\n",
       "ITEM#                                                 4933155\n",
       "品名          2\"PVC 無拉仿木共押百葉窗(套管梯帶)-Trim@Home CF8_58\"*48\"_1E...\n",
       "尺寸                                                    58\"*48\"\n",
       "客戶產品顏色                                                   GRAY\n",
       "出貨日期                                                2022-12-7\n",
       "外箱 PC-IN                                                    2\n",
       "數量                                                        174\n",
       "(單位)                                                       EA\n",
       "料號                                              9TG008FW24022\n",
       "製作規範                                             TG008FW24B03\n",
       "工廠代號                                                    CH001\n",
       "Name: 0, dtype: object"
      ]
     },
     "execution_count": 3,
     "metadata": {},
     "output_type": "execute_result"
    }
   ],
   "source": [
    "# Modify the po detail csv\n",
    "po_details_df.rename(columns = {'Item#':'ITEM#'}, inplace = True)\n",
    "po_details_df.iloc[0]"
   ]
  },
  {
   "cell_type": "code",
   "execution_count": 4,
   "id": "fe081868",
   "metadata": {
    "scrolled": false
   },
   "outputs": [
    {
     "data": {
      "text/plain": [
       "(38, 12)"
      ]
     },
     "execution_count": 4,
     "metadata": {},
     "output_type": "execute_result"
    }
   ],
   "source": [
    "# handle the item_list\n",
    "item_list_df[\"N.W.(KG)\"] = item_list_df[\"G.W.(KG)\"] - item_list_df[\"外箱\"]\n",
    "item_list_df[\"pvc/单\"] = (item_list_df[\"N.W.(KG)\"] / item_list_df[\"PC-IN\"]) - item_list_df[\"配件重/单\"] - item_list_df[\"内盒\"]\n",
    "item_list_df.shape"
   ]
  },
  {
   "cell_type": "code",
   "execution_count": 9,
   "id": "1ef3b291",
   "metadata": {
    "scrolled": true
   },
   "outputs": [
    {
     "data": {
      "text/plain": [
       "Index(['採購單號', '採購單日期', '客戶代號', '客戶PO單號', '出貨', 'ITEM#', '品名', '尺寸', '客戶產品顏色',\n",
       "       '出貨日期', '外箱 PC-IN', '數量', '(單位)', '料號', '製作規範', '工廠代號',\n",
       "       'Item Description', 'SIZE(inch)', 'COLOR', 'PC-IN', '配件重/单', '内盒', '外箱',\n",
       "       'G.W.(KG)', 'CBM(M3)', 'N.W.(KG)', 'pvc/单', '客戶別', '出貨地', '國別'],\n",
       "      dtype='object')"
      ]
     },
     "execution_count": 9,
     "metadata": {},
     "output_type": "execute_result"
    }
   ],
   "source": [
    "# Data join to detail\n",
    "new_po_detail_df = po_details_df.join(item_list_df.set_index('ITEM#'), on='ITEM#')\n",
    "new_po_detail_df = new_po_detail_df.join(rdc_df.set_index('出貨'), on='出貨')\n",
    "new_po_detail_df.columns"
   ]
  },
  {
   "cell_type": "code",
   "execution_count": 11,
   "id": "010b1620",
   "metadata": {},
   "outputs": [
    {
     "name": "stderr",
     "output_type": "stream",
     "text": [
      "/var/folders/hj/yxkfnhm51b951nllng9gm0640000gn/T/ipykernel_86849/258998919.py:4: FutureWarning: In a future version of pandas, a length 1 tuple will be returned when iterating over a groupby with a grouper equal to a list of length 1. Don't supply a list with a single grouper to avoid this warning.\n",
      "  for name, group in new_po_detail_df_group:\n",
      "/var/folders/hj/yxkfnhm51b951nllng9gm0640000gn/T/ipykernel_86849/258998919.py:18: DeprecationWarning: Call to deprecated function remove_sheet (Use wb.remove(worksheet) or del wb[sheetname]).\n",
      "  wb.remove_sheet(temple_sheet)\n"
     ]
    },
    {
     "data": {
      "text/plain": [
       "<bound method Workbook.close of <openpyxl.workbook.workbook.Workbook object at 0x11dc26350>>"
      ]
     },
     "execution_count": 11,
     "metadata": {},
     "output_type": "execute_result"
    }
   ],
   "source": [
    "new_po_detail_df_group = new_po_detail_df.groupby(['客戶PO單號'])\n",
    "wb = load_workbook('xlsx_template/packing_list_template.xlsx')\n",
    "temple_sheet = wb.active\n",
    "for name, group in new_po_detail_df_group:\n",
    "\n",
    "    target = wb.copy_worksheet(temple_sheet)\n",
    "    construct_customer_po_info(target,group.iloc[0])\n",
    "    offset = 1\n",
    "    row_count = 6\n",
    "    \n",
    "    for index, row in group.iterrows():\n",
    "        construct_row_detail(target, row_count, row, offset)\n",
    "        offset += row['數量']//row['外箱 PC-IN']\n",
    "        row_count += 1\n",
    "    construct_po_summery(target, row_count)\n",
    "    target.title = str(name)\n",
    "    \n",
    "wb.remove_sheet(temple_sheet)\n",
    "wb.save(f'results/details_po.xlsx')\n",
    "wb.close"
   ]
  },
  {
   "cell_type": "code",
   "execution_count": null,
   "id": "2ce8f8ee",
   "metadata": {},
   "outputs": [],
   "source": [
    "# detail = new_po_detail_df_group.get_group(226875745)\n",
    "# print(detail.columns)\n",
    "# for index, row in detail.iterrows():\n",
    "#     print(row['數量'])\n",
    "#     print(row['外箱 PC-IN'])\n",
    "# # each_po_item_gp = detail.groupby(['ITEM#'])\n",
    "# # each_po_item_gp.get_group(924684)\n"
   ]
  },
  {
   "cell_type": "code",
   "execution_count": null,
   "id": "7833c737",
   "metadata": {},
   "outputs": [],
   "source": []
  },
  {
   "cell_type": "code",
   "execution_count": null,
   "id": "cfe6a496",
   "metadata": {},
   "outputs": [],
   "source": [
    "# wb = load_workbook('xlsx_template/packing_list_template.xlsx')\n",
    "# ws = wb.active\n",
    "# ws.cell(row=4, column=3, value=300063935)\n",
    "# ws.cell(row=4, column=4, value='=C4+123')\n",
    "# wb.save(\"script_result.xlsx\")"
   ]
  },
  {
   "cell_type": "code",
   "execution_count": null,
   "id": "533b8360",
   "metadata": {},
   "outputs": [],
   "source": []
  },
  {
   "cell_type": "code",
   "execution_count": null,
   "id": "b7847b8d",
   "metadata": {},
   "outputs": [],
   "source": []
  }
 ],
 "metadata": {
  "kernelspec": {
   "display_name": "Python 3 (ipykernel)",
   "language": "python",
   "name": "python3"
  },
  "language_info": {
   "codemirror_mode": {
    "name": "ipython",
    "version": 3
   },
   "file_extension": ".py",
   "mimetype": "text/x-python",
   "name": "python",
   "nbconvert_exporter": "python",
   "pygments_lexer": "ipython3",
   "version": "3.10.4"
  }
 },
 "nbformat": 4,
 "nbformat_minor": 5
}
